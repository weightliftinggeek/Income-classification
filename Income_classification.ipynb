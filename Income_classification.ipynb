{
 "cells": [
  {
   "cell_type": "code",
   "execution_count": 1,
   "id": "fc2f8970",
   "metadata": {},
   "outputs": [
    {
     "name": "stdout",
     "output_type": "stream",
     "text": [
      "dataset length: 26215\n"
     ]
    },
    {
     "data": {
      "text/html": [
       "<div>\n",
       "<style scoped>\n",
       "    .dataframe tbody tr th:only-of-type {\n",
       "        vertical-align: middle;\n",
       "    }\n",
       "\n",
       "    .dataframe tbody tr th {\n",
       "        vertical-align: top;\n",
       "    }\n",
       "\n",
       "    .dataframe thead th {\n",
       "        text-align: right;\n",
       "    }\n",
       "</style>\n",
       "<table border=\"1\" class=\"dataframe\">\n",
       "  <thead>\n",
       "    <tr style=\"text-align: right;\">\n",
       "      <th></th>\n",
       "      <th>income</th>\n",
       "      <th>age</th>\n",
       "      <th>workclass</th>\n",
       "      <th>education</th>\n",
       "      <th>marital-status</th>\n",
       "      <th>occupation</th>\n",
       "      <th>relationship</th>\n",
       "      <th>race</th>\n",
       "      <th>sex</th>\n",
       "      <th>hours-per-week</th>\n",
       "    </tr>\n",
       "  </thead>\n",
       "  <tbody>\n",
       "    <tr>\n",
       "      <th>0</th>\n",
       "      <td>0</td>\n",
       "      <td>39</td>\n",
       "      <td>State-gov</td>\n",
       "      <td>Bachelors</td>\n",
       "      <td>NotMarried</td>\n",
       "      <td>Adm-clerical</td>\n",
       "      <td>Not-in-family</td>\n",
       "      <td>White</td>\n",
       "      <td>Male</td>\n",
       "      <td>40</td>\n",
       "    </tr>\n",
       "    <tr>\n",
       "      <th>1</th>\n",
       "      <td>0</td>\n",
       "      <td>50</td>\n",
       "      <td>Self-emp-not-inc</td>\n",
       "      <td>Bachelors</td>\n",
       "      <td>Married</td>\n",
       "      <td>Exec-managerial</td>\n",
       "      <td>Husband</td>\n",
       "      <td>White</td>\n",
       "      <td>Male</td>\n",
       "      <td>13</td>\n",
       "    </tr>\n",
       "    <tr>\n",
       "      <th>2</th>\n",
       "      <td>0</td>\n",
       "      <td>38</td>\n",
       "      <td>Private</td>\n",
       "      <td>HS-grad</td>\n",
       "      <td>Separated</td>\n",
       "      <td>Handlers-cleaners</td>\n",
       "      <td>Not-in-family</td>\n",
       "      <td>White</td>\n",
       "      <td>Male</td>\n",
       "      <td>40</td>\n",
       "    </tr>\n",
       "    <tr>\n",
       "      <th>3</th>\n",
       "      <td>0</td>\n",
       "      <td>53</td>\n",
       "      <td>Private</td>\n",
       "      <td>11th</td>\n",
       "      <td>Married</td>\n",
       "      <td>Handlers-cleaners</td>\n",
       "      <td>Husband</td>\n",
       "      <td>Black</td>\n",
       "      <td>Male</td>\n",
       "      <td>40</td>\n",
       "    </tr>\n",
       "    <tr>\n",
       "      <th>4</th>\n",
       "      <td>0</td>\n",
       "      <td>28</td>\n",
       "      <td>Private</td>\n",
       "      <td>Bachelors</td>\n",
       "      <td>Married</td>\n",
       "      <td>Prof-specialty</td>\n",
       "      <td>Wife</td>\n",
       "      <td>Black</td>\n",
       "      <td>Female</td>\n",
       "      <td>40</td>\n",
       "    </tr>\n",
       "  </tbody>\n",
       "</table>\n",
       "</div>"
      ],
      "text/plain": [
       "   income  age         workclass  education marital-status         occupation  \\\n",
       "0       0   39         State-gov  Bachelors     NotMarried       Adm-clerical   \n",
       "1       0   50  Self-emp-not-inc  Bachelors        Married    Exec-managerial   \n",
       "2       0   38           Private    HS-grad      Separated  Handlers-cleaners   \n",
       "3       0   53           Private       11th        Married  Handlers-cleaners   \n",
       "4       0   28           Private  Bachelors        Married     Prof-specialty   \n",
       "\n",
       "    relationship   race     sex  hours-per-week  \n",
       "0  Not-in-family  White    Male              40  \n",
       "1        Husband  White    Male              13  \n",
       "2  Not-in-family  White    Male              40  \n",
       "3        Husband  Black    Male              40  \n",
       "4           Wife  Black  Female              40  "
      ]
     },
     "execution_count": 1,
     "metadata": {},
     "output_type": "execute_result"
    }
   ],
   "source": [
    "import pandas as pd\n",
    "\n",
    "dataset = pd.read_csv(\"income.csv\")\n",
    "print(\"dataset length:\", len(dataset))\n",
    "dataset.head()"
   ]
  },
  {
   "cell_type": "markdown",
   "id": "1876ee4a",
   "metadata": {},
   "source": [
    "There is a hyphen in the 'marital-status' column which will cause problems later so we will replace the hyphen with underscore."
   ]
  },
  {
   "cell_type": "code",
   "execution_count": 2,
   "id": "6514687c",
   "metadata": {},
   "outputs": [],
   "source": [
    "dataset.rename(columns={'marital-status': 'marital_status'}, inplace=True)\n",
    "dataset.rename(columns={'hours-per-week': 'hours_per_week'}, inplace=True)"
   ]
  },
  {
   "cell_type": "markdown",
   "id": "7d2cf7ac",
   "metadata": {},
   "source": [
    "#### Dealing with missing values\n",
    "##### 1) identify if there is any missing value in the dataset"
   ]
  },
  {
   "cell_type": "code",
   "execution_count": 3,
   "id": "82222719",
   "metadata": {},
   "outputs": [
    {
     "data": {
      "text/plain": [
       "income               0\n",
       "age                  0\n",
       "workclass         1396\n",
       "education            0\n",
       "marital_status       0\n",
       "occupation        1401\n",
       "relationship         0\n",
       "race                 0\n",
       "sex                  0\n",
       "hours_per_week       0\n",
       "dtype: int64"
      ]
     },
     "execution_count": 3,
     "metadata": {},
     "output_type": "execute_result"
    }
   ],
   "source": [
    "# check if these is any missing value in the dataset\n",
    "dataset.isna().sum()"
   ]
  },
  {
   "cell_type": "markdown",
   "id": "ce9956e6",
   "metadata": {},
   "source": [
    "There are 1396 missing values in workclass and 1401 missing values in occupation. This is porpotionally small compared to the 26215 rows in total so we can drop these rows without affecting the data."
   ]
  },
  {
   "cell_type": "code",
   "execution_count": 4,
   "id": "cdda3788",
   "metadata": {},
   "outputs": [],
   "source": [
    "##### 2) Drop the rows which has missing values"
   ]
  },
  {
   "cell_type": "code",
   "execution_count": 5,
   "id": "a2da42ce",
   "metadata": {},
   "outputs": [
    {
     "name": "stdout",
     "output_type": "stream",
     "text": [
      "dataset length: 24814\n"
     ]
    }
   ],
   "source": [
    "# dealing with missing values, since we only have very small number of missing values in our dataset, we can just remove it for easy processing\n",
    "dataset = dataset.dropna()\n",
    "print(\"dataset length:\", len(dataset))"
   ]
  },
  {
   "cell_type": "code",
   "execution_count": 6,
   "id": "4c2ba182",
   "metadata": {},
   "outputs": [
    {
     "data": {
      "text/plain": [
       "income             int64\n",
       "age                int64\n",
       "workclass         object\n",
       "education         object\n",
       "marital_status    object\n",
       "occupation        object\n",
       "relationship      object\n",
       "race              object\n",
       "sex               object\n",
       "hours_per_week     int64\n",
       "dtype: object"
      ]
     },
     "execution_count": 6,
     "metadata": {},
     "output_type": "execute_result"
    }
   ],
   "source": [
    "# Check variable data types\n",
    "dataset.dtypes"
   ]
  },
  {
   "cell_type": "markdown",
   "id": "8fffbc34",
   "metadata": {},
   "source": [
    "#### Dealing with duplicated rows\n",
    "##### 1) Check if there is any duplicated rows in the dataset"
   ]
  },
  {
   "cell_type": "code",
   "execution_count": 7,
   "id": "51835224",
   "metadata": {},
   "outputs": [
    {
     "data": {
      "text/plain": [
       "True"
      ]
     },
     "execution_count": 7,
     "metadata": {},
     "output_type": "execute_result"
    }
   ],
   "source": [
    "# check if these is any duplicated rows\n",
    "dataset.duplicated().any()"
   ]
  },
  {
   "cell_type": "code",
   "execution_count": 8,
   "id": "77bc8c64",
   "metadata": {},
   "outputs": [
    {
     "name": "stdout",
     "output_type": "stream",
     "text": [
      "dataset length: 21537\n"
     ]
    }
   ],
   "source": [
    "# remove duplicate\n",
    "dataset = dataset.drop_duplicates()\n",
    "print(\"dataset length:\", len(dataset))"
   ]
  },
  {
   "cell_type": "markdown",
   "id": "3744ec57",
   "metadata": {},
   "source": [
    "There are 24814 - 21537 = 3277 duplicated rows that were removed. This step ensures that the data is unique."
   ]
  },
  {
   "cell_type": "markdown",
   "id": "0ff593d4",
   "metadata": {},
   "source": [
    "#### Get a summary of numerical columns"
   ]
  },
  {
   "cell_type": "markdown",
   "id": "a8143d71",
   "metadata": {},
   "source": [
    "The target variable income is not supposed to be a numeric label, rather a boolean variable with 0 and 1."
   ]
  },
  {
   "cell_type": "markdown",
   "id": "1a3bdfe7",
   "metadata": {},
   "source": [
    "#### Handling categorical variables\n",
    "##### 1) check value count for the categorical and  variables\n",
    "including workclass, education, marital-status, occupation, relationship, race and sex"
   ]
  },
  {
   "cell_type": "code",
   "execution_count": 9,
   "id": "31750df6",
   "metadata": {},
   "outputs": [
    {
     "data": {
      "text/plain": [
       "['income',\n",
       " 'age',\n",
       " 'workclass',\n",
       " 'education',\n",
       " 'marital_status',\n",
       " 'occupation',\n",
       " 'relationship',\n",
       " 'race',\n",
       " 'sex',\n",
       " 'hours_per_week']"
      ]
     },
     "execution_count": 9,
     "metadata": {},
     "output_type": "execute_result"
    }
   ],
   "source": [
    "dataset.columns.values.tolist()"
   ]
  },
  {
   "cell_type": "code",
   "execution_count": 10,
   "id": "b66fa7e3",
   "metadata": {},
   "outputs": [
    {
     "name": "stdout",
     "output_type": "stream",
     "text": [
      "Private             15108\n",
      "Self-emp-not-inc     1999\n",
      "Local-gov            1656\n",
      "State-gov            1021\n",
      "Self-emp-inc          951\n",
      "Federal-gov           793\n",
      "Without-pay             9\n",
      "Name: workclass, dtype: int64 \n",
      "\n",
      "HS-grad         6442\n",
      "Some-college    4668\n",
      "Bachelors       3701\n",
      "Masters         1324\n",
      "Assoc-voc       1007\n",
      "Assoc-acdm       814\n",
      "11th             718\n",
      "10th             592\n",
      "Prof-school      487\n",
      "7th-8th          427\n",
      "Doctorate        356\n",
      "9th              355\n",
      "12th             296\n",
      "5th-6th          212\n",
      "1st-4th          104\n",
      "Preschool         34\n",
      "Name: education, dtype: int64 \n",
      "\n",
      "Married       10291\n",
      "NotMarried     6752\n",
      "Separated      3848\n",
      "Widowed         646\n",
      "Name: marital_status, dtype: int64 \n",
      "\n",
      "Prof-specialty       3212\n",
      "Exec-managerial      3017\n",
      "Sales                2597\n",
      "Adm-clerical         2589\n",
      "Craft-repair         2489\n",
      "Other-service        2244\n",
      "Machine-op-inspct    1302\n",
      "Transport-moving     1136\n",
      "Handlers-cleaners     862\n",
      "Farming-fishing       752\n",
      "Tech-support          692\n",
      "Protective-serv       522\n",
      "Priv-house-serv       118\n",
      "Armed-Forces            5\n",
      "Name: occupation, dtype: int64 \n",
      "\n",
      "Husband           8928\n",
      "Not-in-family     5563\n",
      "Own-child         2811\n",
      "Unmarried         2376\n",
      "Wife              1185\n",
      "Other-relative     674\n",
      "Name: relationship, dtype: int64 \n",
      "\n",
      "White                 18161\n",
      "Black                  2161\n",
      "Asian-Pac-Islander      785\n",
      "Amer-Indian-Eskimo      229\n",
      "Other                   201\n",
      "Name: race, dtype: int64 \n",
      "\n",
      "Male      14524\n",
      "Female     7013\n",
      "Name: sex, dtype: int64\n"
     ]
    }
   ],
   "source": [
    "# check value count for the categorical variables\n",
    "print(dataset.workclass.value_counts(),\"\\n\")\n",
    "print(dataset.education.value_counts(),\"\\n\")\n",
    "print(dataset.marital_status.value_counts(), \"\\n\")\n",
    "print(dataset.occupation.value_counts(), \"\\n\")\n",
    "print(dataset.relationship.value_counts(), \"\\n\")\n",
    "print(dataset.race.value_counts(), \"\\n\")\n",
    "print(dataset.sex.value_counts())"
   ]
  },
  {
   "cell_type": "markdown",
   "id": "d3b9bae2",
   "metadata": {},
   "source": [
    "#### 2) Deal with ordinal variables\n",
    "transform the strings to numbers"
   ]
  },
  {
   "cell_type": "code",
   "execution_count": 11,
   "id": "a2a9077c",
   "metadata": {},
   "outputs": [
    {
     "data": {
      "text/html": [
       "<div>\n",
       "<style scoped>\n",
       "    .dataframe tbody tr th:only-of-type {\n",
       "        vertical-align: middle;\n",
       "    }\n",
       "\n",
       "    .dataframe tbody tr th {\n",
       "        vertical-align: top;\n",
       "    }\n",
       "\n",
       "    .dataframe thead th {\n",
       "        text-align: right;\n",
       "    }\n",
       "</style>\n",
       "<table border=\"1\" class=\"dataframe\">\n",
       "  <thead>\n",
       "    <tr style=\"text-align: right;\">\n",
       "      <th></th>\n",
       "      <th>income</th>\n",
       "      <th>age</th>\n",
       "      <th>workclass</th>\n",
       "      <th>education</th>\n",
       "      <th>marital_status</th>\n",
       "      <th>occupation</th>\n",
       "      <th>relationship</th>\n",
       "      <th>race</th>\n",
       "      <th>sex</th>\n",
       "      <th>hours_per_week</th>\n",
       "    </tr>\n",
       "  </thead>\n",
       "  <tbody>\n",
       "    <tr>\n",
       "      <th>0</th>\n",
       "      <td>0</td>\n",
       "      <td>39</td>\n",
       "      <td>State-gov</td>\n",
       "      <td>13</td>\n",
       "      <td>NotMarried</td>\n",
       "      <td>Adm-clerical</td>\n",
       "      <td>Not-in-family</td>\n",
       "      <td>White</td>\n",
       "      <td>Male</td>\n",
       "      <td>40</td>\n",
       "    </tr>\n",
       "    <tr>\n",
       "      <th>1</th>\n",
       "      <td>0</td>\n",
       "      <td>50</td>\n",
       "      <td>Self-emp-not-inc</td>\n",
       "      <td>13</td>\n",
       "      <td>Married</td>\n",
       "      <td>Exec-managerial</td>\n",
       "      <td>Husband</td>\n",
       "      <td>White</td>\n",
       "      <td>Male</td>\n",
       "      <td>13</td>\n",
       "    </tr>\n",
       "    <tr>\n",
       "      <th>2</th>\n",
       "      <td>0</td>\n",
       "      <td>38</td>\n",
       "      <td>Private</td>\n",
       "      <td>9</td>\n",
       "      <td>Separated</td>\n",
       "      <td>Handlers-cleaners</td>\n",
       "      <td>Not-in-family</td>\n",
       "      <td>White</td>\n",
       "      <td>Male</td>\n",
       "      <td>40</td>\n",
       "    </tr>\n",
       "    <tr>\n",
       "      <th>3</th>\n",
       "      <td>0</td>\n",
       "      <td>53</td>\n",
       "      <td>Private</td>\n",
       "      <td>7</td>\n",
       "      <td>Married</td>\n",
       "      <td>Handlers-cleaners</td>\n",
       "      <td>Husband</td>\n",
       "      <td>Black</td>\n",
       "      <td>Male</td>\n",
       "      <td>40</td>\n",
       "    </tr>\n",
       "    <tr>\n",
       "      <th>4</th>\n",
       "      <td>0</td>\n",
       "      <td>28</td>\n",
       "      <td>Private</td>\n",
       "      <td>13</td>\n",
       "      <td>Married</td>\n",
       "      <td>Prof-specialty</td>\n",
       "      <td>Wife</td>\n",
       "      <td>Black</td>\n",
       "      <td>Female</td>\n",
       "      <td>40</td>\n",
       "    </tr>\n",
       "  </tbody>\n",
       "</table>\n",
       "</div>"
      ],
      "text/plain": [
       "   income  age         workclass  education marital_status         occupation  \\\n",
       "0       0   39         State-gov         13     NotMarried       Adm-clerical   \n",
       "1       0   50  Self-emp-not-inc         13        Married    Exec-managerial   \n",
       "2       0   38           Private          9      Separated  Handlers-cleaners   \n",
       "3       0   53           Private          7        Married  Handlers-cleaners   \n",
       "4       0   28           Private         13        Married     Prof-specialty   \n",
       "\n",
       "    relationship   race     sex  hours_per_week  \n",
       "0  Not-in-family  White    Male              40  \n",
       "1        Husband  White    Male              13  \n",
       "2  Not-in-family  White    Male              40  \n",
       "3        Husband  Black    Male              40  \n",
       "4           Wife  Black  Female              40  "
      ]
     },
     "execution_count": 11,
     "metadata": {},
     "output_type": "execute_result"
    }
   ],
   "source": [
    "#Ordinal encoding\n",
    "dataset['education'] = dataset['education'].replace({'Preschool': 1, '1st-4th': 2, '5th-6th': 3, '7th-8th': 4, \n",
    "                                                      '9th': 5, '10th': 6, '11th': 7, '12th': 8, 'HS-grad': 9,\n",
    "                                                     'Some-college': 10, 'Assoc-voc': 11, 'Assoc-acdm': 12, 'Bachelors': 13,\n",
    "                                                     'Masters': 14, 'Prof-school': 15, 'Doctorate': 16})\n",
    "dataset.head()"
   ]
  },
  {
   "cell_type": "markdown",
   "id": "0532ca2e",
   "metadata": {},
   "source": [
    "#### 3) Deal with nominal variables\n",
    "transform nominal variable into dummy variables: "
   ]
  },
  {
   "cell_type": "code",
   "execution_count": 12,
   "id": "0ee3ee9e",
   "metadata": {},
   "outputs": [
    {
     "data": {
      "text/html": [
       "<div>\n",
       "<style scoped>\n",
       "    .dataframe tbody tr th:only-of-type {\n",
       "        vertical-align: middle;\n",
       "    }\n",
       "\n",
       "    .dataframe tbody tr th {\n",
       "        vertical-align: top;\n",
       "    }\n",
       "\n",
       "    .dataframe thead th {\n",
       "        text-align: right;\n",
       "    }\n",
       "</style>\n",
       "<table border=\"1\" class=\"dataframe\">\n",
       "  <thead>\n",
       "    <tr style=\"text-align: right;\">\n",
       "      <th></th>\n",
       "      <th>income</th>\n",
       "      <th>age</th>\n",
       "      <th>education</th>\n",
       "      <th>sex</th>\n",
       "      <th>hours_per_week</th>\n",
       "      <th>workclass_Federal-gov</th>\n",
       "      <th>workclass_Local-gov</th>\n",
       "      <th>workclass_Private</th>\n",
       "      <th>workclass_Self-emp-inc</th>\n",
       "      <th>workclass_Self-emp-not-inc</th>\n",
       "      <th>...</th>\n",
       "      <th>relationship_Not-in-family</th>\n",
       "      <th>relationship_Other-relative</th>\n",
       "      <th>relationship_Own-child</th>\n",
       "      <th>relationship_Unmarried</th>\n",
       "      <th>relationship_Wife</th>\n",
       "      <th>race_Amer-Indian-Eskimo</th>\n",
       "      <th>race_Asian-Pac-Islander</th>\n",
       "      <th>race_Black</th>\n",
       "      <th>race_Other</th>\n",
       "      <th>race_White</th>\n",
       "    </tr>\n",
       "  </thead>\n",
       "  <tbody>\n",
       "    <tr>\n",
       "      <th>0</th>\n",
       "      <td>0</td>\n",
       "      <td>39</td>\n",
       "      <td>13</td>\n",
       "      <td>Male</td>\n",
       "      <td>40</td>\n",
       "      <td>0</td>\n",
       "      <td>0</td>\n",
       "      <td>0</td>\n",
       "      <td>0</td>\n",
       "      <td>0</td>\n",
       "      <td>...</td>\n",
       "      <td>1</td>\n",
       "      <td>0</td>\n",
       "      <td>0</td>\n",
       "      <td>0</td>\n",
       "      <td>0</td>\n",
       "      <td>0</td>\n",
       "      <td>0</td>\n",
       "      <td>0</td>\n",
       "      <td>0</td>\n",
       "      <td>1</td>\n",
       "    </tr>\n",
       "    <tr>\n",
       "      <th>1</th>\n",
       "      <td>0</td>\n",
       "      <td>50</td>\n",
       "      <td>13</td>\n",
       "      <td>Male</td>\n",
       "      <td>13</td>\n",
       "      <td>0</td>\n",
       "      <td>0</td>\n",
       "      <td>0</td>\n",
       "      <td>0</td>\n",
       "      <td>1</td>\n",
       "      <td>...</td>\n",
       "      <td>0</td>\n",
       "      <td>0</td>\n",
       "      <td>0</td>\n",
       "      <td>0</td>\n",
       "      <td>0</td>\n",
       "      <td>0</td>\n",
       "      <td>0</td>\n",
       "      <td>0</td>\n",
       "      <td>0</td>\n",
       "      <td>1</td>\n",
       "    </tr>\n",
       "    <tr>\n",
       "      <th>2</th>\n",
       "      <td>0</td>\n",
       "      <td>38</td>\n",
       "      <td>9</td>\n",
       "      <td>Male</td>\n",
       "      <td>40</td>\n",
       "      <td>0</td>\n",
       "      <td>0</td>\n",
       "      <td>1</td>\n",
       "      <td>0</td>\n",
       "      <td>0</td>\n",
       "      <td>...</td>\n",
       "      <td>1</td>\n",
       "      <td>0</td>\n",
       "      <td>0</td>\n",
       "      <td>0</td>\n",
       "      <td>0</td>\n",
       "      <td>0</td>\n",
       "      <td>0</td>\n",
       "      <td>0</td>\n",
       "      <td>0</td>\n",
       "      <td>1</td>\n",
       "    </tr>\n",
       "    <tr>\n",
       "      <th>3</th>\n",
       "      <td>0</td>\n",
       "      <td>53</td>\n",
       "      <td>7</td>\n",
       "      <td>Male</td>\n",
       "      <td>40</td>\n",
       "      <td>0</td>\n",
       "      <td>0</td>\n",
       "      <td>1</td>\n",
       "      <td>0</td>\n",
       "      <td>0</td>\n",
       "      <td>...</td>\n",
       "      <td>0</td>\n",
       "      <td>0</td>\n",
       "      <td>0</td>\n",
       "      <td>0</td>\n",
       "      <td>0</td>\n",
       "      <td>0</td>\n",
       "      <td>0</td>\n",
       "      <td>1</td>\n",
       "      <td>0</td>\n",
       "      <td>0</td>\n",
       "    </tr>\n",
       "    <tr>\n",
       "      <th>4</th>\n",
       "      <td>0</td>\n",
       "      <td>28</td>\n",
       "      <td>13</td>\n",
       "      <td>Female</td>\n",
       "      <td>40</td>\n",
       "      <td>0</td>\n",
       "      <td>0</td>\n",
       "      <td>1</td>\n",
       "      <td>0</td>\n",
       "      <td>0</td>\n",
       "      <td>...</td>\n",
       "      <td>0</td>\n",
       "      <td>0</td>\n",
       "      <td>0</td>\n",
       "      <td>0</td>\n",
       "      <td>1</td>\n",
       "      <td>0</td>\n",
       "      <td>0</td>\n",
       "      <td>1</td>\n",
       "      <td>0</td>\n",
       "      <td>0</td>\n",
       "    </tr>\n",
       "  </tbody>\n",
       "</table>\n",
       "<p>5 rows × 41 columns</p>\n",
       "</div>"
      ],
      "text/plain": [
       "  income age education     sex hours_per_week workclass_Federal-gov  \\\n",
       "0      0  39        13    Male             40                     0   \n",
       "1      0  50        13    Male             13                     0   \n",
       "2      0  38         9    Male             40                     0   \n",
       "3      0  53         7    Male             40                     0   \n",
       "4      0  28        13  Female             40                     0   \n",
       "\n",
       "  workclass_Local-gov workclass_Private workclass_Self-emp-inc  \\\n",
       "0                   0                 0                      0   \n",
       "1                   0                 0                      0   \n",
       "2                   0                 1                      0   \n",
       "3                   0                 1                      0   \n",
       "4                   0                 1                      0   \n",
       "\n",
       "  workclass_Self-emp-not-inc  ... relationship_Not-in-family  \\\n",
       "0                          0  ...                          1   \n",
       "1                          1  ...                          0   \n",
       "2                          0  ...                          1   \n",
       "3                          0  ...                          0   \n",
       "4                          0  ...                          0   \n",
       "\n",
       "  relationship_Other-relative relationship_Own-child relationship_Unmarried  \\\n",
       "0                           0                      0                      0   \n",
       "1                           0                      0                      0   \n",
       "2                           0                      0                      0   \n",
       "3                           0                      0                      0   \n",
       "4                           0                      0                      0   \n",
       "\n",
       "  relationship_Wife race_Amer-Indian-Eskimo race_Asian-Pac-Islander  \\\n",
       "0                 0                       0                       0   \n",
       "1                 0                       0                       0   \n",
       "2                 0                       0                       0   \n",
       "3                 0                       0                       0   \n",
       "4                 1                       0                       0   \n",
       "\n",
       "  race_Black race_Other race_White  \n",
       "0          0          0          1  \n",
       "1          0          0          1  \n",
       "2          0          0          1  \n",
       "3          1          0          0  \n",
       "4          1          0          0  \n",
       "\n",
       "[5 rows x 41 columns]"
      ]
     },
     "execution_count": 12,
     "metadata": {},
     "output_type": "execute_result"
    }
   ],
   "source": [
    "dataset = pd.get_dummies(dataset, columns=['workclass', 'marital_status', 'occupation', 'relationship', 'race']).astype('category')\n",
    "dataset.head() "
   ]
  },
  {
   "cell_type": "markdown",
   "id": "34891507",
   "metadata": {},
   "source": [
    "Since sex is binary variable, we can use 0 to represent Male and 1 to represent female"
   ]
  },
  {
   "cell_type": "code",
   "execution_count": 13,
   "id": "dc5ce0df",
   "metadata": {},
   "outputs": [
    {
     "data": {
      "text/html": [
       "<div>\n",
       "<style scoped>\n",
       "    .dataframe tbody tr th:only-of-type {\n",
       "        vertical-align: middle;\n",
       "    }\n",
       "\n",
       "    .dataframe tbody tr th {\n",
       "        vertical-align: top;\n",
       "    }\n",
       "\n",
       "    .dataframe thead th {\n",
       "        text-align: right;\n",
       "    }\n",
       "</style>\n",
       "<table border=\"1\" class=\"dataframe\">\n",
       "  <thead>\n",
       "    <tr style=\"text-align: right;\">\n",
       "      <th></th>\n",
       "      <th>income</th>\n",
       "      <th>age</th>\n",
       "      <th>education</th>\n",
       "      <th>sex</th>\n",
       "      <th>hours_per_week</th>\n",
       "      <th>workclass_Federal-gov</th>\n",
       "      <th>workclass_Local-gov</th>\n",
       "      <th>workclass_Private</th>\n",
       "      <th>workclass_Self-emp-inc</th>\n",
       "      <th>workclass_Self-emp-not-inc</th>\n",
       "      <th>...</th>\n",
       "      <th>relationship_Not-in-family</th>\n",
       "      <th>relationship_Other-relative</th>\n",
       "      <th>relationship_Own-child</th>\n",
       "      <th>relationship_Unmarried</th>\n",
       "      <th>relationship_Wife</th>\n",
       "      <th>race_Amer-Indian-Eskimo</th>\n",
       "      <th>race_Asian-Pac-Islander</th>\n",
       "      <th>race_Black</th>\n",
       "      <th>race_Other</th>\n",
       "      <th>race_White</th>\n",
       "    </tr>\n",
       "  </thead>\n",
       "  <tbody>\n",
       "    <tr>\n",
       "      <th>0</th>\n",
       "      <td>0</td>\n",
       "      <td>39</td>\n",
       "      <td>13</td>\n",
       "      <td>1</td>\n",
       "      <td>40</td>\n",
       "      <td>0</td>\n",
       "      <td>0</td>\n",
       "      <td>0</td>\n",
       "      <td>0</td>\n",
       "      <td>0</td>\n",
       "      <td>...</td>\n",
       "      <td>1</td>\n",
       "      <td>0</td>\n",
       "      <td>0</td>\n",
       "      <td>0</td>\n",
       "      <td>0</td>\n",
       "      <td>0</td>\n",
       "      <td>0</td>\n",
       "      <td>0</td>\n",
       "      <td>0</td>\n",
       "      <td>1</td>\n",
       "    </tr>\n",
       "    <tr>\n",
       "      <th>1</th>\n",
       "      <td>0</td>\n",
       "      <td>50</td>\n",
       "      <td>13</td>\n",
       "      <td>1</td>\n",
       "      <td>13</td>\n",
       "      <td>0</td>\n",
       "      <td>0</td>\n",
       "      <td>0</td>\n",
       "      <td>0</td>\n",
       "      <td>1</td>\n",
       "      <td>...</td>\n",
       "      <td>0</td>\n",
       "      <td>0</td>\n",
       "      <td>0</td>\n",
       "      <td>0</td>\n",
       "      <td>0</td>\n",
       "      <td>0</td>\n",
       "      <td>0</td>\n",
       "      <td>0</td>\n",
       "      <td>0</td>\n",
       "      <td>1</td>\n",
       "    </tr>\n",
       "    <tr>\n",
       "      <th>2</th>\n",
       "      <td>0</td>\n",
       "      <td>38</td>\n",
       "      <td>9</td>\n",
       "      <td>1</td>\n",
       "      <td>40</td>\n",
       "      <td>0</td>\n",
       "      <td>0</td>\n",
       "      <td>1</td>\n",
       "      <td>0</td>\n",
       "      <td>0</td>\n",
       "      <td>...</td>\n",
       "      <td>1</td>\n",
       "      <td>0</td>\n",
       "      <td>0</td>\n",
       "      <td>0</td>\n",
       "      <td>0</td>\n",
       "      <td>0</td>\n",
       "      <td>0</td>\n",
       "      <td>0</td>\n",
       "      <td>0</td>\n",
       "      <td>1</td>\n",
       "    </tr>\n",
       "    <tr>\n",
       "      <th>3</th>\n",
       "      <td>0</td>\n",
       "      <td>53</td>\n",
       "      <td>7</td>\n",
       "      <td>1</td>\n",
       "      <td>40</td>\n",
       "      <td>0</td>\n",
       "      <td>0</td>\n",
       "      <td>1</td>\n",
       "      <td>0</td>\n",
       "      <td>0</td>\n",
       "      <td>...</td>\n",
       "      <td>0</td>\n",
       "      <td>0</td>\n",
       "      <td>0</td>\n",
       "      <td>0</td>\n",
       "      <td>0</td>\n",
       "      <td>0</td>\n",
       "      <td>0</td>\n",
       "      <td>1</td>\n",
       "      <td>0</td>\n",
       "      <td>0</td>\n",
       "    </tr>\n",
       "    <tr>\n",
       "      <th>4</th>\n",
       "      <td>0</td>\n",
       "      <td>28</td>\n",
       "      <td>13</td>\n",
       "      <td>0</td>\n",
       "      <td>40</td>\n",
       "      <td>0</td>\n",
       "      <td>0</td>\n",
       "      <td>1</td>\n",
       "      <td>0</td>\n",
       "      <td>0</td>\n",
       "      <td>...</td>\n",
       "      <td>0</td>\n",
       "      <td>0</td>\n",
       "      <td>0</td>\n",
       "      <td>0</td>\n",
       "      <td>1</td>\n",
       "      <td>0</td>\n",
       "      <td>0</td>\n",
       "      <td>1</td>\n",
       "      <td>0</td>\n",
       "      <td>0</td>\n",
       "    </tr>\n",
       "  </tbody>\n",
       "</table>\n",
       "<p>5 rows × 41 columns</p>\n",
       "</div>"
      ],
      "text/plain": [
       "  income age education sex hours_per_week workclass_Federal-gov  \\\n",
       "0      0  39        13   1             40                     0   \n",
       "1      0  50        13   1             13                     0   \n",
       "2      0  38         9   1             40                     0   \n",
       "3      0  53         7   1             40                     0   \n",
       "4      0  28        13   0             40                     0   \n",
       "\n",
       "  workclass_Local-gov workclass_Private workclass_Self-emp-inc  \\\n",
       "0                   0                 0                      0   \n",
       "1                   0                 0                      0   \n",
       "2                   0                 1                      0   \n",
       "3                   0                 1                      0   \n",
       "4                   0                 1                      0   \n",
       "\n",
       "  workclass_Self-emp-not-inc  ... relationship_Not-in-family  \\\n",
       "0                          0  ...                          1   \n",
       "1                          1  ...                          0   \n",
       "2                          0  ...                          1   \n",
       "3                          0  ...                          0   \n",
       "4                          0  ...                          0   \n",
       "\n",
       "  relationship_Other-relative relationship_Own-child relationship_Unmarried  \\\n",
       "0                           0                      0                      0   \n",
       "1                           0                      0                      0   \n",
       "2                           0                      0                      0   \n",
       "3                           0                      0                      0   \n",
       "4                           0                      0                      0   \n",
       "\n",
       "  relationship_Wife race_Amer-Indian-Eskimo race_Asian-Pac-Islander  \\\n",
       "0                 0                       0                       0   \n",
       "1                 0                       0                       0   \n",
       "2                 0                       0                       0   \n",
       "3                 0                       0                       0   \n",
       "4                 1                       0                       0   \n",
       "\n",
       "  race_Black race_Other race_White  \n",
       "0          0          0          1  \n",
       "1          0          0          1  \n",
       "2          0          0          1  \n",
       "3          1          0          0  \n",
       "4          1          0          0  \n",
       "\n",
       "[5 rows x 41 columns]"
      ]
     },
     "execution_count": 13,
     "metadata": {},
     "output_type": "execute_result"
    }
   ],
   "source": [
    "dataset['sex'] = dataset['sex'].replace({'Male': 1, 'Female': 0}).astype('category')\n",
    "dataset.head() "
   ]
  },
  {
   "cell_type": "markdown",
   "id": "0d3196eb",
   "metadata": {},
   "source": [
    "##### Check dataset shape"
   ]
  },
  {
   "cell_type": "code",
   "execution_count": 14,
   "id": "5a82ede0",
   "metadata": {},
   "outputs": [
    {
     "data": {
      "text/plain": [
       "(21537, 41)"
      ]
     },
     "execution_count": 14,
     "metadata": {},
     "output_type": "execute_result"
    }
   ],
   "source": [
    "dataset.shape"
   ]
  },
  {
   "cell_type": "code",
   "execution_count": 15,
   "id": "23df43f1",
   "metadata": {},
   "outputs": [],
   "source": [
    "dataset['age']=dataset.age.astype('uint8')\n",
    "dataset['hours_per_week']=dataset.hours_per_week.astype('uint8')"
   ]
  },
  {
   "cell_type": "code",
   "execution_count": 16,
   "id": "54351463",
   "metadata": {},
   "outputs": [
    {
     "data": {
      "text/plain": [
       "income                          category\n",
       "age                                uint8\n",
       "education                       category\n",
       "sex                             category\n",
       "hours_per_week                     uint8\n",
       "workclass_Federal-gov           category\n",
       "workclass_Local-gov             category\n",
       "workclass_Private               category\n",
       "workclass_Self-emp-inc          category\n",
       "workclass_Self-emp-not-inc      category\n",
       "workclass_State-gov             category\n",
       "workclass_Without-pay           category\n",
       "marital_status_Married          category\n",
       "marital_status_NotMarried       category\n",
       "marital_status_Separated        category\n",
       "marital_status_Widowed          category\n",
       "occupation_Adm-clerical         category\n",
       "occupation_Armed-Forces         category\n",
       "occupation_Craft-repair         category\n",
       "occupation_Exec-managerial      category\n",
       "occupation_Farming-fishing      category\n",
       "occupation_Handlers-cleaners    category\n",
       "occupation_Machine-op-inspct    category\n",
       "occupation_Other-service        category\n",
       "occupation_Priv-house-serv      category\n",
       "occupation_Prof-specialty       category\n",
       "occupation_Protective-serv      category\n",
       "occupation_Sales                category\n",
       "occupation_Tech-support         category\n",
       "occupation_Transport-moving     category\n",
       "relationship_Husband            category\n",
       "relationship_Not-in-family      category\n",
       "relationship_Other-relative     category\n",
       "relationship_Own-child          category\n",
       "relationship_Unmarried          category\n",
       "relationship_Wife               category\n",
       "race_Amer-Indian-Eskimo         category\n",
       "race_Asian-Pac-Islander         category\n",
       "race_Black                      category\n",
       "race_Other                      category\n",
       "race_White                      category\n",
       "dtype: object"
      ]
     },
     "execution_count": 16,
     "metadata": {},
     "output_type": "execute_result"
    }
   ],
   "source": [
    "dataset.dtypes"
   ]
  },
  {
   "cell_type": "code",
   "execution_count": 17,
   "id": "77093878",
   "metadata": {},
   "outputs": [
    {
     "data": {
      "text/html": [
       "<div>\n",
       "<style scoped>\n",
       "    .dataframe tbody tr th:only-of-type {\n",
       "        vertical-align: middle;\n",
       "    }\n",
       "\n",
       "    .dataframe tbody tr th {\n",
       "        vertical-align: top;\n",
       "    }\n",
       "\n",
       "    .dataframe thead th {\n",
       "        text-align: right;\n",
       "    }\n",
       "</style>\n",
       "<table border=\"1\" class=\"dataframe\">\n",
       "  <thead>\n",
       "    <tr style=\"text-align: right;\">\n",
       "      <th></th>\n",
       "      <th>age</th>\n",
       "      <th>hours_per_week</th>\n",
       "    </tr>\n",
       "  </thead>\n",
       "  <tbody>\n",
       "    <tr>\n",
       "      <th>count</th>\n",
       "      <td>21537.000000</td>\n",
       "      <td>21537.000000</td>\n",
       "    </tr>\n",
       "    <tr>\n",
       "      <th>mean</th>\n",
       "      <td>39.407624</td>\n",
       "      <td>41.478015</td>\n",
       "    </tr>\n",
       "    <tr>\n",
       "      <th>std</th>\n",
       "      <td>13.203134</td>\n",
       "      <td>12.501092</td>\n",
       "    </tr>\n",
       "    <tr>\n",
       "      <th>min</th>\n",
       "      <td>17.000000</td>\n",
       "      <td>1.000000</td>\n",
       "    </tr>\n",
       "    <tr>\n",
       "      <th>25%</th>\n",
       "      <td>29.000000</td>\n",
       "      <td>40.000000</td>\n",
       "    </tr>\n",
       "    <tr>\n",
       "      <th>50%</th>\n",
       "      <td>38.000000</td>\n",
       "      <td>40.000000</td>\n",
       "    </tr>\n",
       "    <tr>\n",
       "      <th>75%</th>\n",
       "      <td>48.000000</td>\n",
       "      <td>47.000000</td>\n",
       "    </tr>\n",
       "    <tr>\n",
       "      <th>max</th>\n",
       "      <td>90.000000</td>\n",
       "      <td>99.000000</td>\n",
       "    </tr>\n",
       "  </tbody>\n",
       "</table>\n",
       "</div>"
      ],
      "text/plain": [
       "                age  hours_per_week\n",
       "count  21537.000000    21537.000000\n",
       "mean      39.407624       41.478015\n",
       "std       13.203134       12.501092\n",
       "min       17.000000        1.000000\n",
       "25%       29.000000       40.000000\n",
       "50%       38.000000       40.000000\n",
       "75%       48.000000       47.000000\n",
       "max       90.000000       99.000000"
      ]
     },
     "execution_count": 17,
     "metadata": {},
     "output_type": "execute_result"
    }
   ],
   "source": [
    "dataset.describe()"
   ]
  },
  {
   "cell_type": "code",
   "execution_count": 18,
   "id": "168df1f2",
   "metadata": {},
   "outputs": [
    {
     "data": {
      "text/plain": [
       "<seaborn.axisgrid.PairGrid at 0x13fd5e276a0>"
      ]
     },
     "execution_count": 18,
     "metadata": {},
     "output_type": "execute_result"
    },
    {
     "data": {
      "image/png": "[encoded data removed]",
      "text/plain": [
       "<Figure size 360x360 with 6 Axes>"
      ]
     },
     "metadata": {
      "needs_background": "light"
     },
     "output_type": "display_data"
    }
   ],
   "source": [
    "#correlation analysis\n",
    "import seaborn as sns\n",
    "sns.pairplot(dataset)"
   ]
  },
  {
   "cell_type": "markdown",
   "id": "353c817a",
   "metadata": {},
   "source": [
    "##### Define the input variables and the target variable\n",
    "target variable is the first variable income, and input variables are the rest of the columns."
   ]
  },
  {
   "cell_type": "code",
   "execution_count": 19,
   "id": "85df77be",
   "metadata": {},
   "outputs": [],
   "source": [
    "array = dataset.values\n",
    "X = array[:,1:]\n",
    "y = array[:,0]"
   ]
  },
  {
   "cell_type": "markdown",
   "id": "2eaf0e6d",
   "metadata": {},
   "source": [
    "### Split the dataset and normalize data"
   ]
  },
  {
   "cell_type": "markdown",
   "id": "c3a26ad9",
   "metadata": {},
   "source": [
    "##### Split the training and testing dataset\n",
    "use 10% of dataset for testing with a random state of 1"
   ]
  },
  {
   "cell_type": "code",
   "execution_count": 20,
   "id": "1061f517",
   "metadata": {},
   "outputs": [],
   "source": [
    "from sklearn.model_selection import train_test_split\n",
    "\n",
    "X_train, X_test, y_train, y_test = train_test_split(X, y, test_size=0.1, random_state=1)"
   ]
  },
  {
   "cell_type": "markdown",
   "id": "bddf830b",
   "metadata": {},
   "source": [
    "##### Apply normalization on both train and testing dataset"
   ]
  },
  {
   "cell_type": "code",
   "execution_count": 21,
   "id": "9a2ddc4f",
   "metadata": {},
   "outputs": [],
   "source": [
    "from sklearn.preprocessing import MinMaxScaler\n",
    "\n",
    "# fit scaler on training data\n",
    "norm = MinMaxScaler().fit(X_train)\n",
    "\n",
    "# transform training data\n",
    "X_train_norm = norm.transform(X_train)\n",
    "\n",
    "# transform testing data\n",
    "X_test_norm = norm.transform(X_test)"
   ]
  },
  {
   "cell_type": "markdown",
   "id": "fb6caf63",
   "metadata": {},
   "source": [
    "### Train model with logistic regression and SVM for classification, based on entire training dataset and then evaluate the model based on testing dataset"
   ]
  },
  {
   "cell_type": "code",
   "execution_count": 22,
   "id": "903c0a9d",
   "metadata": {},
   "outputs": [
    {
     "name": "stdout",
     "output_type": "stream",
     "text": [
      "Testing Accuracy of LR: 0.7887650882079852\n",
      "Testing Accuracy of SVC: 0.7924791086350975\n"
     ]
    }
   ],
   "source": [
    "from sklearn.linear_model import LogisticRegression\n",
    "from sklearn.svm import SVC\n",
    "\n",
    "# logistic regression model, parameters can be changed\n",
    "model = LogisticRegression(solver=\"liblinear\")\n",
    "model.fit(X_train_norm, y_train)\n",
    "test_score = model.score(X_test_norm, y_test)\n",
    "print(\"Testing Accuracy of LR:\", test_score)\n",
    "\n",
    "# Support Vector Machine for classification, parameters can be changed\n",
    "model = SVC()\n",
    "model.fit(X_train_norm, y_train)\n",
    "test_score = model.score(X_test_norm, y_test)\n",
    "print(\"Testing Accuracy of SVC:\", test_score)"
   ]
  },
  {
   "cell_type": "markdown",
   "id": "b20a125f",
   "metadata": {},
   "source": [
    "### Train a model with 10-fold cross valiation"
   ]
  },
  {
   "cell_type": "markdown",
   "id": "78725913",
   "metadata": {},
   "source": [
    "##### Define a 10 fold cross validation with data shufflling and set the random state with 2"
   ]
  },
  {
   "cell_type": "code",
   "execution_count": 23,
   "id": "9b8163d9",
   "metadata": {},
   "outputs": [],
   "source": [
    "from sklearn.model_selection import KFold\n",
    "\n",
    "kfold = KFold(n_splits=10, shuffle=True, random_state=2)"
   ]
  },
  {
   "cell_type": "code",
   "execution_count": 24,
   "id": "99950133",
   "metadata": {},
   "outputs": [
    {
     "name": "stdout",
     "output_type": "stream",
     "text": [
      "Average Accuracy of LR: 0.8083362206748556\n",
      "Average Accuracy of SVM: 0.7999268185328473\n"
     ]
    }
   ],
   "source": [
    "from sklearn.model_selection import cross_val_score\n",
    "\n",
    "model = LogisticRegression(solver=\"liblinear\")\n",
    "resultslr = cross_val_score(model, X_train_norm, y_train, cv=kfold)\n",
    "print(\"Average Accuracy of LR:\",resultslr.mean())\n",
    "\n",
    "model = SVC()\n",
    "resultssvc = cross_val_score(model, X_train_norm, y_train, cv=kfold)\n",
    "print(\"Average Accuracy of SVM:\",resultssvc.mean())"
   ]
  },
  {
   "cell_type": "markdown",
   "id": "d50c8509",
   "metadata": {},
   "source": [
    "### Optimize the Logistic Regression models with cross validation"
   ]
  },
  {
   "cell_type": "code",
   "execution_count": 25,
   "id": "da6264ab",
   "metadata": {},
   "outputs": [
    {
     "name": "stdout",
     "output_type": "stream",
     "text": [
      "0.8074589744695142\n"
     ]
    }
   ],
   "source": [
    "# fine tune parameters for logistic regression model\n",
    "from sklearn.model_selection import GridSearchCV\n",
    "\n",
    "grid_params_lr = {\n",
    "    'penalty': ['l1', 'l2'],\n",
    "    'C': [0.01, 0.001, 0.1],\n",
    "    'solver': ['saga', 'liblinear']\n",
    "}\n",
    "\n",
    "lr = LogisticRegression(max_iter=1000)\n",
    "gs_lr_result = GridSearchCV(lr, grid_params_lr, cv=kfold).fit(X_train_norm, y_train)\n",
    "print(gs_lr_result.best_score_)"
   ]
  },
  {
   "cell_type": "markdown",
   "id": "4ae17f33",
   "metadata": {},
   "source": [
    "### Evaluate the trained Logistic Regression model using testing dataset"
   ]
  },
  {
   "cell_type": "code",
   "execution_count": 26,
   "id": "c90a39bb",
   "metadata": {},
   "outputs": [
    {
     "name": "stdout",
     "output_type": "stream",
     "text": [
      "Accuracy in testing: 0.7892293407613742\n"
     ]
    }
   ],
   "source": [
    "test_accuracy = gs_lr_result.best_estimator_.score(X_test_norm, y_test)\n",
    "print(\"Accuracy in testing:\", test_accuracy)"
   ]
  },
  {
   "cell_type": "markdown",
   "id": "685ca61b",
   "metadata": {},
   "source": [
    "check the parameter setting for the best selected model"
   ]
  },
  {
   "cell_type": "code",
   "execution_count": 27,
   "id": "6a58dd46",
   "metadata": {},
   "outputs": [
    {
     "data": {
      "text/plain": [
       "{'C': 0.1, 'penalty': 'l1', 'solver': 'saga'}"
      ]
     },
     "execution_count": 27,
     "metadata": {},
     "output_type": "execute_result"
    }
   ],
   "source": [
    "gs_lr_result.best_params_"
   ]
  },
  {
   "cell_type": "markdown",
   "id": "cb79b010",
   "metadata": {},
   "source": [
    "### Optimize the SVM models with the same steps"
   ]
  },
  {
   "cell_type": "code",
   "execution_count": 28,
   "id": "4b92bd2a",
   "metadata": {},
   "outputs": [
    {
     "name": "stdout",
     "output_type": "stream",
     "text": [
      "0.8064787419813071\n"
     ]
    }
   ],
   "source": [
    "from sklearn.model_selection import GridSearchCV\n",
    "\n",
    "grid_params_svc = {\n",
    "    'kernel': ['linear', 'poly'],\n",
    "    'C': [1, 10],\n",
    "    'degree': [3, 8],\n",
    "    'gamma': ['auto','scale']\n",
    "}\n",
    "\n",
    "svc = SVC()\n",
    "gs_svc_result = GridSearchCV(svc, grid_params_svc, cv=kfold).fit(X_train_norm, y_train)\n",
    "print(gs_svc_result.best_score_)"
   ]
  },
  {
   "cell_type": "code",
   "execution_count": 29,
   "id": "43110925",
   "metadata": {},
   "outputs": [
    {
     "name": "stdout",
     "output_type": "stream",
     "text": [
      "Accuracy in testing: 0.7948003714020427\n"
     ]
    }
   ],
   "source": [
    "#Evaluate the trained SVC model using testing dataset\n",
    "test_accuracy = gs_svc_result.best_estimator_.score(X_test_norm, y_test)\n",
    "print(\"Accuracy in testing:\", test_accuracy)"
   ]
  },
  {
   "cell_type": "code",
   "execution_count": 30,
   "id": "f77c25c9",
   "metadata": {},
   "outputs": [
    {
     "data": {
      "text/plain": [
       "{'C': 10, 'degree': 3, 'gamma': 'scale', 'kernel': 'poly'}"
      ]
     },
     "execution_count": 30,
     "metadata": {},
     "output_type": "execute_result"
    }
   ],
   "source": [
    "#check the parameter setting for the best selected model\n",
    "gs_svc_result.best_params_"
   ]
  },
  {
   "cell_type": "markdown",
   "id": "c7cfeba4",
   "metadata": {},
   "source": [
    "### build a kmeans model with 2 clusters"
   ]
  },
  {
   "cell_type": "code",
   "execution_count": 31,
   "id": "98c465a6",
   "metadata": {},
   "outputs": [],
   "source": [
    "from sklearn.cluster import KMeans\n",
    "\n",
    "kmeans = KMeans(n_clusters=2, random_state=0).fit(X_train_norm)"
   ]
  },
  {
   "cell_type": "markdown",
   "id": "d043ec97",
   "metadata": {},
   "source": [
    "#### check how many data samples in each cluster"
   ]
  },
  {
   "cell_type": "code",
   "execution_count": 32,
   "id": "967b4644",
   "metadata": {},
   "outputs": [
    {
     "data": {
      "text/plain": [
       "{0: 9222, 1: 10161}"
      ]
     },
     "execution_count": 32,
     "metadata": {},
     "output_type": "execute_result"
    }
   ],
   "source": [
    "import numpy as np\n",
    "kmeans_labels = kmeans.labels_\n",
    "unique_labels, unique_counts = np.unique(kmeans_labels, return_counts=True)\n",
    "dict(zip(unique_labels, unique_counts))"
   ]
  },
  {
   "cell_type": "markdown",
   "id": "5c864006",
   "metadata": {},
   "source": [
    "#### Extract prototype for each cluster"
   ]
  },
  {
   "cell_type": "code",
   "execution_count": 33,
   "id": "c2a2ec7d",
   "metadata": {},
   "outputs": [
    {
     "data": {
      "text/html": [
       "<div>\n",
       "<style scoped>\n",
       "    .dataframe tbody tr th:only-of-type {\n",
       "        vertical-align: middle;\n",
       "    }\n",
       "\n",
       "    .dataframe tbody tr th {\n",
       "        vertical-align: top;\n",
       "    }\n",
       "\n",
       "    .dataframe thead th {\n",
       "        text-align: right;\n",
       "    }\n",
       "</style>\n",
       "<table border=\"1\" class=\"dataframe\">\n",
       "  <thead>\n",
       "    <tr style=\"text-align: right;\">\n",
       "      <th></th>\n",
       "      <th>income</th>\n",
       "      <th>age</th>\n",
       "      <th>education</th>\n",
       "      <th>sex</th>\n",
       "      <th>hours_per_week</th>\n",
       "      <th>workclass_Federal-gov</th>\n",
       "      <th>workclass_Local-gov</th>\n",
       "      <th>workclass_Private</th>\n",
       "      <th>workclass_Self-emp-inc</th>\n",
       "      <th>workclass_Self-emp-not-inc</th>\n",
       "      <th>...</th>\n",
       "      <th>relationship_Not-in-family</th>\n",
       "      <th>relationship_Other-relative</th>\n",
       "      <th>relationship_Own-child</th>\n",
       "      <th>relationship_Unmarried</th>\n",
       "      <th>relationship_Wife</th>\n",
       "      <th>race_Amer-Indian-Eskimo</th>\n",
       "      <th>race_Asian-Pac-Islander</th>\n",
       "      <th>race_Black</th>\n",
       "      <th>race_Other</th>\n",
       "      <th>race_White</th>\n",
       "    </tr>\n",
       "  </thead>\n",
       "  <tbody>\n",
       "    <tr>\n",
       "      <th>11540</th>\n",
       "      <td>0</td>\n",
       "      <td>28</td>\n",
       "      <td>9</td>\n",
       "      <td>0</td>\n",
       "      <td>32</td>\n",
       "      <td>0</td>\n",
       "      <td>0</td>\n",
       "      <td>1</td>\n",
       "      <td>0</td>\n",
       "      <td>0</td>\n",
       "      <td>...</td>\n",
       "      <td>0</td>\n",
       "      <td>0</td>\n",
       "      <td>1</td>\n",
       "      <td>0</td>\n",
       "      <td>0</td>\n",
       "      <td>0</td>\n",
       "      <td>0</td>\n",
       "      <td>0</td>\n",
       "      <td>0</td>\n",
       "      <td>1</td>\n",
       "    </tr>\n",
       "    <tr>\n",
       "      <th>6945</th>\n",
       "      <td>0</td>\n",
       "      <td>56</td>\n",
       "      <td>10</td>\n",
       "      <td>1</td>\n",
       "      <td>45</td>\n",
       "      <td>0</td>\n",
       "      <td>0</td>\n",
       "      <td>1</td>\n",
       "      <td>0</td>\n",
       "      <td>0</td>\n",
       "      <td>...</td>\n",
       "      <td>0</td>\n",
       "      <td>0</td>\n",
       "      <td>0</td>\n",
       "      <td>0</td>\n",
       "      <td>0</td>\n",
       "      <td>0</td>\n",
       "      <td>0</td>\n",
       "      <td>0</td>\n",
       "      <td>0</td>\n",
       "      <td>1</td>\n",
       "    </tr>\n",
       "  </tbody>\n",
       "</table>\n",
       "<p>2 rows × 41 columns</p>\n",
       "</div>"
      ],
      "text/plain": [
       "      income  age education sex  hours_per_week workclass_Federal-gov  \\\n",
       "11540      0   28         9   0              32                     0   \n",
       "6945       0   56        10   1              45                     0   \n",
       "\n",
       "      workclass_Local-gov workclass_Private workclass_Self-emp-inc  \\\n",
       "11540                   0                 1                      0   \n",
       "6945                    0                 1                      0   \n",
       "\n",
       "      workclass_Self-emp-not-inc  ... relationship_Not-in-family  \\\n",
       "11540                          0  ...                          0   \n",
       "6945                           0  ...                          0   \n",
       "\n",
       "      relationship_Other-relative relationship_Own-child  \\\n",
       "11540                           0                      1   \n",
       "6945                            0                      0   \n",
       "\n",
       "      relationship_Unmarried relationship_Wife race_Amer-Indian-Eskimo  \\\n",
       "11540                      0                 0                       0   \n",
       "6945                       0                 0                       0   \n",
       "\n",
       "      race_Asian-Pac-Islander race_Black race_Other race_White  \n",
       "11540                       0          0          0          1  \n",
       "6945                        0          0          0          1  \n",
       "\n",
       "[2 rows x 41 columns]"
      ]
     },
     "execution_count": 33,
     "metadata": {},
     "output_type": "execute_result"
    }
   ],
   "source": [
    "from sklearn.metrics.pairwise import pairwise_distances_argmin\n",
    "\n",
    "kmeans_cluster_centers = kmeans.cluster_centers_\n",
    "closest = pairwise_distances_argmin(kmeans.cluster_centers_, X_train_norm)\n",
    "\n",
    "# show the two data samples that can represent the two clusters\n",
    "dataset.iloc[closest, :]"
   ]
  },
  {
   "cell_type": "markdown",
   "id": "9d89444f",
   "metadata": {},
   "source": [
    "#### Check accuracy of the clustering model"
   ]
  },
  {
   "cell_type": "code",
   "execution_count": 34,
   "id": "534055ac",
   "metadata": {},
   "outputs": [
    {
     "name": "stdout",
     "output_type": "stream",
     "text": [
      "k means prediction accuracy: 0.6903435468895079\n"
     ]
    }
   ],
   "source": [
    "from sklearn.metrics import accuracy_score\n",
    "\n",
    "kmeans_labels = kmeans.predict(X_test)\n",
    "\n",
    "accuracy = accuracy_score(y_test, kmeans_labels)\n",
    "print(\"k means prediction accuracy:\", accuracy)"
   ]
  }
 ],
 "metadata": {
  "kernelspec": {
   "display_name": "Python 3",
   "language": "python",
   "name": "python3"
  },
  "language_info": {
   "codemirror_mode": {
    "name": "ipython",
    "version": 3
   },
   "file_extension": ".py",
   "mimetype": "text/x-python",
   "name": "python",
   "nbconvert_exporter": "python",
   "pygments_lexer": "ipython3",
   "version": "3.8.8"
  },
  "latex_envs": {
   "LaTeX_envs_menu_present": true,
   "autoclose": false,
   "autocomplete": true,
   "bibliofile": "biblio.bib",
   "cite_by": "apalike",
   "current_citInitial": 1,
   "eqLabelWithNumbers": true,
   "eqNumInitial": 1,
   "hotkeys": {
    "equation": "Ctrl-E",
    "itemize": "Ctrl-I"
   },
   "labels_anchors": false,
   "latex_user_defs": false,
   "report_style_numbering": false,
   "user_envs_cfg": false
  }
 },
 "nbformat": 4,
 "nbformat_minor": 5
}
